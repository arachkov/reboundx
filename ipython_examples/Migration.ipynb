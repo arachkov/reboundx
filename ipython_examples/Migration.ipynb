{
 "cells": [
  {
   "cell_type": "markdown",
   "metadata": {},
   "source": [
    "# Migration\n",
    "\n",
    "For modifying orbital elements, REBOUNDx offers two implementations.  `modify_orbits_direct` directly calculates orbital elements and modifies those, while `modify_orbits_forces` applies forces that when orbit-averaged yield the desired behavior.  We are currently working on a paper that considers when each one might be more appropriate.  We begin importing `rebound` and `reboundx` and setting up a simple simulation of two planets on initially eccentric and inclined orbits:"
   ]
  },
  {
   "cell_type": "code",
   "execution_count": 26,
   "metadata": {
    "collapsed": false
   },
   "outputs": [],
   "source": [
    "import rebound\n",
    "import reboundx\n",
    "import numpy as np\n",
    "sim = rebound.Simulation()\n",
    "ainner = 1.\n",
    "aouter = 1000.\n",
    "e0 = 0.\n",
    "inc0 = 0.\n",
    "\n",
    "sim.add(m=1.)\n",
    "sim.add(m=1,a=ainner,e=e0, inc=inc0)\n",
    "#sim.add(m=2.,a=aouter,e=e0, inc=inc0)\n",
    "sim.move_to_com() # Moves to the center of momentum frame\n",
    "#for p in sim.particles:\n",
    "#    p.x += 5."
   ]
  },
  {
   "cell_type": "code",
   "execution_count": null,
   "metadata": {
    "collapsed": true
   },
   "outputs": [],
   "source": []
  },
  {
   "cell_type": "markdown",
   "metadata": {},
   "source": [
    "Now let's set up `reboundx` and here we choose to add `modify_orbits_forces`, which implements the migration using forces:"
   ]
  },
  {
   "cell_type": "code",
   "execution_count": 27,
   "metadata": {
    "collapsed": false
   },
   "outputs": [],
   "source": [
    "rebx = reboundx.Extras(sim)\n",
    "params = rebx.add_modify_orbits_direct()"
   ]
  },
  {
   "cell_type": "code",
   "execution_count": 28,
   "metadata": {
    "collapsed": true
   },
   "outputs": [],
   "source": [
    "params.coordinates = reboundx.coordinates[\"BARYCENTRIC\"]"
   ]
  },
  {
   "cell_type": "markdown",
   "metadata": {},
   "source": [
    "Both `modify_orbits_forces` and `modify_orbits_direct` exponentially alter the semimajor axis, on an e-folding timescale `tau_a`.  **If `tau_a` < 0, you get exponential damping, and for `tau_a` > 0, exponential growth, i.e.,**\n",
    "\\begin{equation}\n",
    "a = a_0e^{t/\\tau_a}\n",
    "\\end{equation}\n",
    "\n",
    "In general, each body will have different damping timescales.  By default all particles have timescales of infinity, i.e., no effect.  The units of time are set by the units of time in your simulation.\n",
    "\n",
    "Let's set a maximum time for our simulation, and give our two planets different (inward) migration timescales.  This can simply be done through:"
   ]
  },
  {
   "cell_type": "code",
   "execution_count": 29,
   "metadata": {
    "collapsed": false
   },
   "outputs": [],
   "source": [
    "tmax = 1.e3\n",
    "sim.particles[1].tau_a = -tmax*2.  # this is for particles[1]\n",
    "#sim.particles[2].tau_a = -tmax/2.     # this is for particles[2]"
   ]
  },
  {
   "cell_type": "markdown",
   "metadata": {},
   "source": [
    "Now we run the simulation like we would normally with REBOUND.  Here we store the semimajor axes at 1000 equally spaced intervals:"
   ]
  },
  {
   "cell_type": "code",
   "execution_count": 30,
   "metadata": {
    "collapsed": true
   },
   "outputs": [],
   "source": [
    "Nout = 1000\n",
    "a1,a2 = np.zeros(Nout), np.zeros(Nout)\n",
    "es = np.zeros(Nout)\n",
    "times = np.linspace(0.,tmax,Nout)\n",
    "for i,time in enumerate(times):\n",
    "    sim.integrate(time)\n",
    "    a1[i] = sim.particles[1].a\n",
    "    #a2[i] = sim.particles[2].a\n",
    "    #es[i] = sim.particles[2].e"
   ]
  },
  {
   "cell_type": "markdown",
   "metadata": {},
   "source": [
    "Now let's plot it on a linear-log scale to check whether we get the expected exponential behavior.  We'll also overplot the expected exponential decays for comparison."
   ]
  },
  {
   "cell_type": "code",
   "execution_count": 31,
   "metadata": {
    "collapsed": false
   },
   "outputs": [
    {
     "data": {
      "text/plain": [
       "<matplotlib.text.Text at 0x11128c278>"
      ]
     },
     "execution_count": 31,
     "metadata": {},
     "output_type": "execute_result"
    },
    {
     "data": {
      "image/png": "[encoded data removed]",
      "text/plain": [
       "<matplotlib.figure.Figure at 0x11097cd30>"
      ]
     },
     "metadata": {},
     "output_type": "display_data"
    }
   ],
   "source": [
    "a1pred = [ainner*np.e**(t/sim.particles[1].tau_a) for t in times]\n",
    "#a2pred = [aouter*np.e**(t/sim.particles[2].tau_a) for t in times]\n",
    "\n",
    "%matplotlib inline\n",
    "import matplotlib.pyplot as plt\n",
    "fig = plt.figure(figsize=(15,5))\n",
    "ax = plt.subplot(111)\n",
    "ax.set_yscale('log')\n",
    "plt.plot(times,a1)\n",
    "plt.plot(times,a2)\n",
    "plt.plot(times,a1pred, 'r--')\n",
    "#plt.plot(times,a2pred, 'r--')\n",
    "plt.axes().set_xlabel(\"Time\", fontsize=24)\n",
    "plt.axes().set_ylabel(\"Semimajor axis\", fontsize=24)"
   ]
  },
  {
   "cell_type": "code",
   "execution_count": 7,
   "metadata": {
    "collapsed": false
   },
   "outputs": [
    {
     "data": {
      "text/plain": [
       "<matplotlib.text.Text at 0x110372358>"
      ]
     },
     "execution_count": 7,
     "metadata": {},
     "output_type": "execute_result"
    },
    {
     "data": {
      "image/png": "[encoded data removed]",
      "text/plain": [
       "<matplotlib.figure.Figure at 0x10ccfb080>"
      ]
     },
     "metadata": {},
     "output_type": "display_data"
    }
   ],
   "source": [
    "%matplotlib inline\n",
    "import matplotlib.pyplot as plt\n",
    "fig = plt.figure(figsize=(15,5))\n",
    "ax = plt.subplot(111)\n",
    "ax.set_yscale('log')\n",
    "plt.plot(times,es)\n",
    "plt.axes().set_xlabel(\"Time\", fontsize=24)\n",
    "plt.axes().set_ylabel(\"e\", fontsize=24)"
   ]
  },
  {
   "cell_type": "code",
   "execution_count": 8,
   "metadata": {
    "collapsed": false
   },
   "outputs": [
    {
     "name": "stdout",
     "output_type": "stream",
     "text": [
      "<rebound.Particle object, id=0 m=4.0 x=-4.547473508864641e-13 y=5.684341886080802e-14 z=0.0 vx=-6.114900252818245e-17 vy=1.3530843112619095e-16 vz=0.0>\n"
     ]
    }
   ],
   "source": [
    "print(sim.calculate_com())"
   ]
  },
  {
   "cell_type": "code",
   "execution_count": 9,
   "metadata": {
    "collapsed": false
   },
   "outputs": [
    {
     "name": "stdout",
     "output_type": "stream",
     "text": [
      "999.9993556377296\n"
     ]
    }
   ],
   "source": [
    "print(sim.particles[2].d)"
   ]
  },
  {
   "cell_type": "code",
   "execution_count": 10,
   "metadata": {
    "collapsed": false
   },
   "outputs": [
    {
     "data": {
      "text/plain": [
       "1.5039651082049597e-05"
      ]
     },
     "execution_count": 10,
     "metadata": {},
     "output_type": "execute_result"
    }
   ],
   "source": [
    "sim.particles[2].e"
   ]
  },
  {
   "cell_type": "code",
   "execution_count": 11,
   "metadata": {
    "collapsed": false
   },
   "outputs": [
    {
     "name": "stdout",
     "output_type": "stream",
     "text": [
      "---------------------------------\n",
      "REBOUND version:     \t2.16.1\n",
      "REBOUND built on:    \tMay 18 2016 08:36:39\n",
      "Number of particles: \t3\n",
      "Selected integrator: \tias15\n",
      "Simulation time:     \t1000.000000\n",
      "Current timestep:    \t0.446215\n",
      "---------------------------------\n",
      "<rebound.Particle object, id=0 m=1.0 x=-502.2000355885407 y=-32.69019587148436 z=0.0 vx=0.08954149631826941 vy=-0.2890245382912235 vz=0.0>\n",
      "<rebound.Particle object, id=0 m=1.0 x=-495.79996896133 y=-30.513460623485702 z=0.0 vx=-0.08554340512361672 vy=0.22590514951165758 vz=0.0>\n",
      "<rebound.Particle object, id=0 m=2.0 x=499.00000227493445 y=31.601828247485145 z=0.0 vx=-0.0019990455973264683 vy=0.031559694389783226 vz=0.0>\n",
      "---------------------------------\n"
     ]
    }
   ],
   "source": [
    "sim.status()"
   ]
  },
  {
   "cell_type": "code",
   "execution_count": 12,
   "metadata": {
    "collapsed": false
   },
   "outputs": [
    {
     "name": "stdout",
     "output_type": "stream",
     "text": [
      "<rebound.Particle object, id=0 m=2.0 x=-500.0 y=0.0 z=0.0 vx=0.0 vy=-0.031622776601683805 vz=0.0>\n",
      "<rebound.Particle object, id=0 m=2.0 x=-499.00000227493535 y=-31.60182824748503 z=0.0 vx=0.001999045597326346 vy=-0.031559694389782955 vz=0.0>\n"
     ]
    }
   ],
   "source": [
    "print(com1)\n",
    "print(sim.calculate_com(last=2))"
   ]
  },
  {
   "cell_type": "code",
   "execution_count": 13,
   "metadata": {
    "collapsed": false
   },
   "outputs": [
    {
     "name": "stdout",
     "output_type": "stream",
     "text": [
      "<rebound.Particle object, id=0 m=4.0 x=0.0 y=0.0 z=0.0 vx=0.0 vy=-1.3877787807814457e-17 vz=0.0>\n",
      "<rebound.Particle object, id=0 m=4.0 x=-4.547473508864641e-13 y=5.684341886080802e-14 z=0.0 vx=-6.114900252818245e-17 vy=1.3530843112619095e-16 vz=0.0>\n"
     ]
    }
   ],
   "source": [
    "print(com2)\n",
    "print(sim.calculate_com(last=3))"
   ]
  },
  {
   "cell_type": "code",
   "execution_count": 14,
   "metadata": {
    "collapsed": false
   },
   "outputs": [
    {
     "name": "stdout",
     "output_type": "stream",
     "text": [
      "1000.0\n",
      "999.9993556377296\n"
     ]
    }
   ],
   "source": [
    "print(d)\n",
    "print(sim.particles[2].d)"
   ]
  },
  {
   "cell_type": "code",
   "execution_count": 15,
   "metadata": {
    "collapsed": false,
    "scrolled": true
   },
   "outputs": [
    {
     "data": {
      "image/png": "[encoded data removed]",
      "text/plain": [
       "<matplotlib.figure.Figure at 0x110176588>"
      ]
     },
     "metadata": {},
     "output_type": "display_data"
    }
   ],
   "source": [
    "%matplotlib inline\n",
    "fig = rebound.OrbitPlot(sim)"
   ]
  },
  {
   "cell_type": "code",
   "execution_count": null,
   "metadata": {
    "collapsed": true
   },
   "outputs": [],
   "source": []
  },
  {
   "cell_type": "markdown",
   "metadata": {
    "collapsed": true
   },
   "source": [
    "**Coordinate Systems**\n",
    "\n",
    "Everything in REBOUND by default uses jacobi coordinates.  If you would like to change the reference relative to which the particles are damped, we alter the field in the parameters object returned when we added the effect (we called this `params` above):"
   ]
  },
  {
   "cell_type": "code",
   "execution_count": 16,
   "metadata": {
    "collapsed": false
   },
   "outputs": [],
   "source": [
    "params.coordinates = reboundx.coordinates[\"HELIOCENTRIC\"]"
   ]
  },
  {
   "cell_type": "markdown",
   "metadata": {},
   "source": [
    "for everything to be referenced to `sim.particles[0]`, or"
   ]
  },
  {
   "cell_type": "code",
   "execution_count": 17,
   "metadata": {
    "collapsed": false
   },
   "outputs": [],
   "source": [
    "params.coordinates = reboundx.coordinates[\"BARYCENTRIC\"]"
   ]
  },
  {
   "cell_type": "markdown",
   "metadata": {},
   "source": [
    "to use the barycenter of the whole system."
   ]
  },
  {
   "cell_type": "code",
   "execution_count": null,
   "metadata": {
    "collapsed": true
   },
   "outputs": [],
   "source": []
  }
 ],
 "metadata": {
  "kernelspec": {
   "display_name": "Python 3",
   "language": "python",
   "name": "python3"
  },
  "language_info": {
   "codemirror_mode": {
    "name": "ipython",
    "version": 3
   },
   "file_extension": ".py",
   "mimetype": "text/x-python",
   "name": "python",
   "nbconvert_exporter": "python",
   "pygments_lexer": "ipython3",
   "version": "3.5.1"
  }
 },
 "nbformat": 4,
 "nbformat_minor": 0
}
